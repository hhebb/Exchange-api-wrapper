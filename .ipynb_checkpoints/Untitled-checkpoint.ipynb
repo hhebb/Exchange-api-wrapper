{
 "cells": [
  {
   "cell_type": "code",
   "execution_count": 1,
   "metadata": {},
   "outputs": [
    {
     "name": "stdout",
     "output_type": "stream",
     "text": [
      "Importing Jupyter notebook from korbit_machine.ipynb\n",
      "Importing Jupyter notebook from base_machine.ipynb\n"
     ]
    }
   ],
   "source": [
    "import nbimporter\n",
    "import korbit_machine"
   ]
  },
  {
   "cell_type": "code",
   "execution_count": 2,
   "metadata": {},
   "outputs": [],
   "source": [
    "km = korbit_machine.KorbitMachine()"
   ]
  },
  {
   "cell_type": "code",
   "execution_count": 4,
   "metadata": {},
   "outputs": [
    {
     "data": {
      "text/plain": [
       "(3600,\n",
       " 'aVEncT2Yz5q5CgvmKNhawxAk2Xnbd062qLdYrecR3UvCER5qEU4MICqOoqHnu',\n",
       " '6cb8IebjARlqcfGqNWJlVrR9iZVveNr9uePRQLvUgxhr414qD7n819THibrAo')"
      ]
     },
     "execution_count": 4,
     "metadata": {},
     "output_type": "execute_result"
    }
   ],
   "source": [
    "km.set_token()"
   ]
  },
  {
   "cell_type": "code",
   "execution_count": 17,
   "metadata": {},
   "outputs": [
    {
     "data": {
      "text/plain": [
       "{'timestamp': '1565067335763',\n",
       " 'last': '11775500',\n",
       " 'bid': '11749500',\n",
       " 'ask': '11793500',\n",
       " 'high': '12000000',\n",
       " 'low': '11500000',\n",
       " 'volume': '101.650549205347558939'}"
      ]
     },
     "execution_count": 17,
     "metadata": {},
     "output_type": "execute_result"
    }
   ],
   "source": [
    "km.get_ticker('btc_krw')"
   ]
  },
  {
   "cell_type": "code",
   "execution_count": null,
   "metadata": {},
   "outputs": [],
   "source": []
  }
 ],
 "metadata": {
  "kernelspec": {
   "display_name": "Python 3",
   "language": "python",
   "name": "python3"
  },
  "language_info": {
   "codemirror_mode": {
    "name": "ipython",
    "version": 3
   },
   "file_extension": ".py",
   "mimetype": "text/x-python",
   "name": "python",
   "nbconvert_exporter": "python",
   "pygments_lexer": "ipython3",
   "version": "3.6.8"
  }
 },
 "nbformat": 4,
 "nbformat_minor": 2
}
